{
 "cells": [
  {
   "cell_type": "markdown",
   "metadata": {},
   "source": [
    "# Stock Exploration"
   ]
  },
  {
   "cell_type": "code",
   "execution_count": 2,
   "metadata": {},
   "outputs": [],
   "source": [
    "import numpy as np\n",
    "import pandas as pd\n",
    "import seaborn as sns\n",
    "from datetime import datetime\n",
    "from math import sqrt\n",
    "\n",
    "from fbprophet import Prophet\n",
    "from fbprophet.diagnostics import cross_validation\n",
    "from fbprophet.diagnostics import performance_metrics\n",
    "from fbprophet.plot import plot_cross_validation_metric\n",
    "from fbprophet.plot import plot_forecast_component\n",
    "import itertools\n",
    "\n",
    "import matplotlib.pyplot as plt\n",
    "%matplotlib inline\n",
    "pd.plotting.register_matplotlib_converters()\n",
    "\n",
    "from vega_datasets import data\n",
    "\n",
    "import warnings\n",
    "warnings.filterwarnings(\"ignore\")"
   ]
  },
  {
   "cell_type": "markdown",
   "metadata": {},
   "source": [
    "## Acquire"
   ]
  },
  {
   "cell_type": "code",
   "execution_count": 3,
   "metadata": {},
   "outputs": [],
   "source": [
    "stocks = data.stocks()"
   ]
  },
  {
   "cell_type": "code",
   "execution_count": 4,
   "metadata": {},
   "outputs": [
    {
     "data": {
      "text/html": [
       "<div>\n",
       "<style scoped>\n",
       "    .dataframe tbody tr th:only-of-type {\n",
       "        vertical-align: middle;\n",
       "    }\n",
       "\n",
       "    .dataframe tbody tr th {\n",
       "        vertical-align: top;\n",
       "    }\n",
       "\n",
       "    .dataframe thead th {\n",
       "        text-align: right;\n",
       "    }\n",
       "</style>\n",
       "<table border=\"1\" class=\"dataframe\">\n",
       "  <thead>\n",
       "    <tr style=\"text-align: right;\">\n",
       "      <th></th>\n",
       "      <th>symbol</th>\n",
       "      <th>date</th>\n",
       "      <th>price</th>\n",
       "    </tr>\n",
       "  </thead>\n",
       "  <tbody>\n",
       "    <tr>\n",
       "      <th>0</th>\n",
       "      <td>MSFT</td>\n",
       "      <td>2000-01-01</td>\n",
       "      <td>39.81</td>\n",
       "    </tr>\n",
       "    <tr>\n",
       "      <th>1</th>\n",
       "      <td>MSFT</td>\n",
       "      <td>2000-02-01</td>\n",
       "      <td>36.35</td>\n",
       "    </tr>\n",
       "    <tr>\n",
       "      <th>2</th>\n",
       "      <td>MSFT</td>\n",
       "      <td>2000-03-01</td>\n",
       "      <td>43.22</td>\n",
       "    </tr>\n",
       "    <tr>\n",
       "      <th>3</th>\n",
       "      <td>MSFT</td>\n",
       "      <td>2000-04-01</td>\n",
       "      <td>28.37</td>\n",
       "    </tr>\n",
       "    <tr>\n",
       "      <th>4</th>\n",
       "      <td>MSFT</td>\n",
       "      <td>2000-05-01</td>\n",
       "      <td>25.45</td>\n",
       "    </tr>\n",
       "    <tr>\n",
       "      <th>...</th>\n",
       "      <td>...</td>\n",
       "      <td>...</td>\n",
       "      <td>...</td>\n",
       "    </tr>\n",
       "    <tr>\n",
       "      <th>555</th>\n",
       "      <td>AAPL</td>\n",
       "      <td>2009-11-01</td>\n",
       "      <td>199.91</td>\n",
       "    </tr>\n",
       "    <tr>\n",
       "      <th>556</th>\n",
       "      <td>AAPL</td>\n",
       "      <td>2009-12-01</td>\n",
       "      <td>210.73</td>\n",
       "    </tr>\n",
       "    <tr>\n",
       "      <th>557</th>\n",
       "      <td>AAPL</td>\n",
       "      <td>2010-01-01</td>\n",
       "      <td>192.06</td>\n",
       "    </tr>\n",
       "    <tr>\n",
       "      <th>558</th>\n",
       "      <td>AAPL</td>\n",
       "      <td>2010-02-01</td>\n",
       "      <td>204.62</td>\n",
       "    </tr>\n",
       "    <tr>\n",
       "      <th>559</th>\n",
       "      <td>AAPL</td>\n",
       "      <td>2010-03-01</td>\n",
       "      <td>223.02</td>\n",
       "    </tr>\n",
       "  </tbody>\n",
       "</table>\n",
       "<p>560 rows × 3 columns</p>\n",
       "</div>"
      ],
      "text/plain": [
       "    symbol       date   price\n",
       "0     MSFT 2000-01-01   39.81\n",
       "1     MSFT 2000-02-01   36.35\n",
       "2     MSFT 2000-03-01   43.22\n",
       "3     MSFT 2000-04-01   28.37\n",
       "4     MSFT 2000-05-01   25.45\n",
       "..     ...        ...     ...\n",
       "555   AAPL 2009-11-01  199.91\n",
       "556   AAPL 2009-12-01  210.73\n",
       "557   AAPL 2010-01-01  192.06\n",
       "558   AAPL 2010-02-01  204.62\n",
       "559   AAPL 2010-03-01  223.02\n",
       "\n",
       "[560 rows x 3 columns]"
      ]
     },
     "execution_count": 4,
     "metadata": {},
     "output_type": "execute_result"
    }
   ],
   "source": [
    "stocks"
   ]
  },
  {
   "cell_type": "code",
   "execution_count": 5,
   "metadata": {},
   "outputs": [],
   "source": [
    "# to transform such that each symbol is it's own column and each row is one month\n",
    "stocks = stocks.pivot_table('price', 'date', 'symbol')"
   ]
  },
  {
   "cell_type": "code",
   "execution_count": 6,
   "metadata": {},
   "outputs": [
    {
     "data": {
      "text/html": [
       "<div>\n",
       "<style scoped>\n",
       "    .dataframe tbody tr th:only-of-type {\n",
       "        vertical-align: middle;\n",
       "    }\n",
       "\n",
       "    .dataframe tbody tr th {\n",
       "        vertical-align: top;\n",
       "    }\n",
       "\n",
       "    .dataframe thead th {\n",
       "        text-align: right;\n",
       "    }\n",
       "</style>\n",
       "<table border=\"1\" class=\"dataframe\">\n",
       "  <thead>\n",
       "    <tr style=\"text-align: right;\">\n",
       "      <th>symbol</th>\n",
       "      <th>AAPL</th>\n",
       "      <th>AMZN</th>\n",
       "      <th>GOOG</th>\n",
       "      <th>IBM</th>\n",
       "      <th>MSFT</th>\n",
       "    </tr>\n",
       "    <tr>\n",
       "      <th>date</th>\n",
       "      <th></th>\n",
       "      <th></th>\n",
       "      <th></th>\n",
       "      <th></th>\n",
       "      <th></th>\n",
       "    </tr>\n",
       "  </thead>\n",
       "  <tbody>\n",
       "    <tr>\n",
       "      <th>2000-01-01</th>\n",
       "      <td>25.94</td>\n",
       "      <td>64.56</td>\n",
       "      <td>NaN</td>\n",
       "      <td>100.52</td>\n",
       "      <td>39.81</td>\n",
       "    </tr>\n",
       "    <tr>\n",
       "      <th>2000-02-01</th>\n",
       "      <td>28.66</td>\n",
       "      <td>68.87</td>\n",
       "      <td>NaN</td>\n",
       "      <td>92.11</td>\n",
       "      <td>36.35</td>\n",
       "    </tr>\n",
       "    <tr>\n",
       "      <th>2000-03-01</th>\n",
       "      <td>33.95</td>\n",
       "      <td>67.00</td>\n",
       "      <td>NaN</td>\n",
       "      <td>106.11</td>\n",
       "      <td>43.22</td>\n",
       "    </tr>\n",
       "    <tr>\n",
       "      <th>2000-04-01</th>\n",
       "      <td>31.01</td>\n",
       "      <td>55.19</td>\n",
       "      <td>NaN</td>\n",
       "      <td>99.95</td>\n",
       "      <td>28.37</td>\n",
       "    </tr>\n",
       "    <tr>\n",
       "      <th>2000-05-01</th>\n",
       "      <td>21.00</td>\n",
       "      <td>48.31</td>\n",
       "      <td>NaN</td>\n",
       "      <td>96.31</td>\n",
       "      <td>25.45</td>\n",
       "    </tr>\n",
       "    <tr>\n",
       "      <th>...</th>\n",
       "      <td>...</td>\n",
       "      <td>...</td>\n",
       "      <td>...</td>\n",
       "      <td>...</td>\n",
       "      <td>...</td>\n",
       "    </tr>\n",
       "    <tr>\n",
       "      <th>2009-11-01</th>\n",
       "      <td>199.91</td>\n",
       "      <td>135.91</td>\n",
       "      <td>583.00</td>\n",
       "      <td>125.79</td>\n",
       "      <td>29.27</td>\n",
       "    </tr>\n",
       "    <tr>\n",
       "      <th>2009-12-01</th>\n",
       "      <td>210.73</td>\n",
       "      <td>134.52</td>\n",
       "      <td>619.98</td>\n",
       "      <td>130.32</td>\n",
       "      <td>30.34</td>\n",
       "    </tr>\n",
       "    <tr>\n",
       "      <th>2010-01-01</th>\n",
       "      <td>192.06</td>\n",
       "      <td>125.41</td>\n",
       "      <td>529.94</td>\n",
       "      <td>121.85</td>\n",
       "      <td>28.05</td>\n",
       "    </tr>\n",
       "    <tr>\n",
       "      <th>2010-02-01</th>\n",
       "      <td>204.62</td>\n",
       "      <td>118.40</td>\n",
       "      <td>526.80</td>\n",
       "      <td>127.16</td>\n",
       "      <td>28.67</td>\n",
       "    </tr>\n",
       "    <tr>\n",
       "      <th>2010-03-01</th>\n",
       "      <td>223.02</td>\n",
       "      <td>128.82</td>\n",
       "      <td>560.19</td>\n",
       "      <td>125.55</td>\n",
       "      <td>28.80</td>\n",
       "    </tr>\n",
       "  </tbody>\n",
       "</table>\n",
       "<p>123 rows × 5 columns</p>\n",
       "</div>"
      ],
      "text/plain": [
       "symbol        AAPL    AMZN    GOOG     IBM   MSFT\n",
       "date                                             \n",
       "2000-01-01   25.94   64.56     NaN  100.52  39.81\n",
       "2000-02-01   28.66   68.87     NaN   92.11  36.35\n",
       "2000-03-01   33.95   67.00     NaN  106.11  43.22\n",
       "2000-04-01   31.01   55.19     NaN   99.95  28.37\n",
       "2000-05-01   21.00   48.31     NaN   96.31  25.45\n",
       "...            ...     ...     ...     ...    ...\n",
       "2009-11-01  199.91  135.91  583.00  125.79  29.27\n",
       "2009-12-01  210.73  134.52  619.98  130.32  30.34\n",
       "2010-01-01  192.06  125.41  529.94  121.85  28.05\n",
       "2010-02-01  204.62  118.40  526.80  127.16  28.67\n",
       "2010-03-01  223.02  128.82  560.19  125.55  28.80\n",
       "\n",
       "[123 rows x 5 columns]"
      ]
     },
     "execution_count": 6,
     "metadata": {},
     "output_type": "execute_result"
    }
   ],
   "source": [
    "stocks"
   ]
  },
  {
   "cell_type": "code",
   "execution_count": 7,
   "metadata": {},
   "outputs": [
    {
     "data": {
      "image/png": "[encoded data removed]",
      "text/plain": [
       "<Figure size 864x432 with 1 Axes>"
      ]
     },
     "metadata": {
      "needs_background": "light"
     },
     "output_type": "display_data"
    }
   ],
   "source": [
    "stocks.plot(figsize=(12,6))\n",
    "plt.title('Stock Growth')\n",
    "plt.show()"
   ]
  },
  {
   "cell_type": "markdown",
   "metadata": {},
   "source": [
    "## Prepare IBM\n",
    "- fbprophet must have the dates labeled as ds and the values labeled as y"
   ]
  },
  {
   "cell_type": "code",
   "execution_count": 8,
   "metadata": {},
   "outputs": [],
   "source": [
    "ibm = stocks.iloc[:,3:4]"
   ]
  },
  {
   "cell_type": "code",
   "execution_count": 9,
   "metadata": {},
   "outputs": [],
   "source": [
    "ibm.index.rename('ds', inplace = True)\n",
    "\n",
    "ibm.columns.rename('', inplace = True)\n",
    "\n",
    "ibm.rename(columns = {'IBM': 'y'}, inplace = True)"
   ]
  },
  {
   "cell_type": "code",
   "execution_count": 10,
   "metadata": {},
   "outputs": [
    {
     "data": {
      "text/html": [
       "<div>\n",
       "<style scoped>\n",
       "    .dataframe tbody tr th:only-of-type {\n",
       "        vertical-align: middle;\n",
       "    }\n",
       "\n",
       "    .dataframe tbody tr th {\n",
       "        vertical-align: top;\n",
       "    }\n",
       "\n",
       "    .dataframe thead th {\n",
       "        text-align: right;\n",
       "    }\n",
       "</style>\n",
       "<table border=\"1\" class=\"dataframe\">\n",
       "  <thead>\n",
       "    <tr style=\"text-align: right;\">\n",
       "      <th></th>\n",
       "      <th>y</th>\n",
       "    </tr>\n",
       "    <tr>\n",
       "      <th>ds</th>\n",
       "      <th></th>\n",
       "    </tr>\n",
       "  </thead>\n",
       "  <tbody>\n",
       "    <tr>\n",
       "      <th>2000-01-01</th>\n",
       "      <td>100.52</td>\n",
       "    </tr>\n",
       "    <tr>\n",
       "      <th>2000-02-01</th>\n",
       "      <td>92.11</td>\n",
       "    </tr>\n",
       "    <tr>\n",
       "      <th>2000-03-01</th>\n",
       "      <td>106.11</td>\n",
       "    </tr>\n",
       "    <tr>\n",
       "      <th>2000-04-01</th>\n",
       "      <td>99.95</td>\n",
       "    </tr>\n",
       "    <tr>\n",
       "      <th>2000-05-01</th>\n",
       "      <td>96.31</td>\n",
       "    </tr>\n",
       "    <tr>\n",
       "      <th>...</th>\n",
       "      <td>...</td>\n",
       "    </tr>\n",
       "    <tr>\n",
       "      <th>2009-11-01</th>\n",
       "      <td>125.79</td>\n",
       "    </tr>\n",
       "    <tr>\n",
       "      <th>2009-12-01</th>\n",
       "      <td>130.32</td>\n",
       "    </tr>\n",
       "    <tr>\n",
       "      <th>2010-01-01</th>\n",
       "      <td>121.85</td>\n",
       "    </tr>\n",
       "    <tr>\n",
       "      <th>2010-02-01</th>\n",
       "      <td>127.16</td>\n",
       "    </tr>\n",
       "    <tr>\n",
       "      <th>2010-03-01</th>\n",
       "      <td>125.55</td>\n",
       "    </tr>\n",
       "  </tbody>\n",
       "</table>\n",
       "<p>123 rows × 1 columns</p>\n",
       "</div>"
      ],
      "text/plain": [
       "                 y\n",
       "ds                \n",
       "2000-01-01  100.52\n",
       "2000-02-01   92.11\n",
       "2000-03-01  106.11\n",
       "2000-04-01   99.95\n",
       "2000-05-01   96.31\n",
       "...            ...\n",
       "2009-11-01  125.79\n",
       "2009-12-01  130.32\n",
       "2010-01-01  121.85\n",
       "2010-02-01  127.16\n",
       "2010-03-01  125.55\n",
       "\n",
       "[123 rows x 1 columns]"
      ]
     },
     "execution_count": 10,
     "metadata": {},
     "output_type": "execute_result"
    }
   ],
   "source": [
    "ibm"
   ]
  },
  {
   "cell_type": "markdown",
   "metadata": {},
   "source": [
    "## Splitting into Train, Validate and Test"
   ]
  },
  {
   "cell_type": "code",
   "execution_count": 13,
   "metadata": {},
   "outputs": [],
   "source": [
    "train = ibm[:'2007']"
   ]
  },
  {
   "cell_type": "code",
   "execution_count": 14,
   "metadata": {},
   "outputs": [],
   "source": [
    "validate = ibm['2008']"
   ]
  },
  {
   "cell_type": "code",
   "execution_count": 15,
   "metadata": {},
   "outputs": [],
   "source": [
    "test = ibm['2009':]"
   ]
  },
  {
   "cell_type": "code",
   "execution_count": 16,
   "metadata": {},
   "outputs": [
    {
     "data": {
      "image/png": "[encoded data removed]",
      "text/plain": [
       "<Figure size 432x288 with 1 Axes>"
      ]
     },
     "metadata": {
      "needs_background": "light"
     },
     "output_type": "display_data"
    }
   ],
   "source": [
    "plt.plot(train)\n",
    "plt.plot(validate)\n",
    "plt.show()"
   ]
  },
  {
   "cell_type": "markdown",
   "metadata": {},
   "source": [
    "## Predict\n",
    "\n",
    "Two ways to predict:\n",
    "\n",
    "- create a future dataframe and create predictions for those dates. (This is basically your test dataframe)\n",
    "- use Prophet's cross validation method to predict."
   ]
  },
  {
   "cell_type": "markdown",
   "metadata": {},
   "source": [
    "### Future DataFrame"
   ]
  },
  {
   "cell_type": "code",
   "execution_count": 17,
   "metadata": {},
   "outputs": [
    {
     "data": {
      "text/html": [
       "<div>\n",
       "<style scoped>\n",
       "    .dataframe tbody tr th:only-of-type {\n",
       "        vertical-align: middle;\n",
       "    }\n",
       "\n",
       "    .dataframe tbody tr th {\n",
       "        vertical-align: top;\n",
       "    }\n",
       "\n",
       "    .dataframe thead th {\n",
       "        text-align: right;\n",
       "    }\n",
       "</style>\n",
       "<table border=\"1\" class=\"dataframe\">\n",
       "  <thead>\n",
       "    <tr style=\"text-align: right;\">\n",
       "      <th></th>\n",
       "      <th>ds</th>\n",
       "      <th>y</th>\n",
       "      <th>cap</th>\n",
       "      <th>floor</th>\n",
       "    </tr>\n",
       "  </thead>\n",
       "  <tbody>\n",
       "    <tr>\n",
       "      <th>0</th>\n",
       "      <td>2000-01-01</td>\n",
       "      <td>100.52</td>\n",
       "      <td>200</td>\n",
       "      <td>20</td>\n",
       "    </tr>\n",
       "    <tr>\n",
       "      <th>1</th>\n",
       "      <td>2000-02-01</td>\n",
       "      <td>92.11</td>\n",
       "      <td>200</td>\n",
       "      <td>20</td>\n",
       "    </tr>\n",
       "  </tbody>\n",
       "</table>\n",
       "</div>"
      ],
      "text/plain": [
       "          ds       y  cap  floor\n",
       "0 2000-01-01  100.52  200     20\n",
       "1 2000-02-01   92.11  200     20"
      ]
     },
     "execution_count": 17,
     "metadata": {},
     "output_type": "execute_result"
    }
   ],
   "source": [
    "train['cap'] = 200\n",
    "train['floor'] = 20\n",
    "\n",
    "# reset index as prophet needs ds to be a column and not an index. \n",
    "train = train.reset_index()\n",
    "validate = validate.reset_index()\n",
    "test = test.reset_index()\n",
    "\n",
    "train.head(2)"
   ]
  },
  {
   "cell_type": "markdown",
   "metadata": {},
   "source": [
    "### Optimizing Parameters"
   ]
  },
  {
   "cell_type": "code",
   "execution_count": 18,
   "metadata": {},
   "outputs": [
    {
     "name": "stderr",
     "output_type": "stream",
     "text": [
      "INFO:fbprophet:Disabling weekly seasonality. Run prophet with weekly_seasonality=True to override this.\n",
      "INFO:fbprophet:Disabling daily seasonality. Run prophet with daily_seasonality=True to override this.\n",
      "INFO:fbprophet:Making 14 forecasts with cutoffs between 2004-03-21 00:00:00 and 2007-06-04 00:00:00\n",
      "INFO:fbprophet:Applying in parallel with <concurrent.futures.process.ProcessPoolExecutor object at 0x7fed257e6510>\n",
      "INFO:fbprophet:Disabling weekly seasonality. Run prophet with weekly_seasonality=True to override this.\n",
      "INFO:fbprophet:Disabling daily seasonality. Run prophet with daily_seasonality=True to override this.\n",
      "INFO:fbprophet:Making 14 forecasts with cutoffs between 2004-03-21 00:00:00 and 2007-06-04 00:00:00\n",
      "INFO:fbprophet:Applying in parallel with <concurrent.futures.process.ProcessPoolExecutor object at 0x7fed24e5f590>\n",
      "INFO:fbprophet:Disabling weekly seasonality. Run prophet with weekly_seasonality=True to override this.\n",
      "INFO:fbprophet:Disabling daily seasonality. Run prophet with daily_seasonality=True to override this.\n",
      "INFO:fbprophet:Making 14 forecasts with cutoffs between 2004-03-21 00:00:00 and 2007-06-04 00:00:00\n",
      "INFO:fbprophet:Applying in parallel with <concurrent.futures.process.ProcessPoolExecutor object at 0x7fed257b5ad0>\n",
      "INFO:fbprophet:Disabling weekly seasonality. Run prophet with weekly_seasonality=True to override this.\n",
      "INFO:fbprophet:Disabling daily seasonality. Run prophet with daily_seasonality=True to override this.\n",
      "INFO:fbprophet:Making 14 forecasts with cutoffs between 2004-03-21 00:00:00 and 2007-06-04 00:00:00\n",
      "INFO:fbprophet:Applying in parallel with <concurrent.futures.process.ProcessPoolExecutor object at 0x7fed23e6d550>\n",
      "INFO:fbprophet:Disabling weekly seasonality. Run prophet with weekly_seasonality=True to override this.\n",
      "INFO:fbprophet:Disabling daily seasonality. Run prophet with daily_seasonality=True to override this.\n",
      "INFO:fbprophet:Making 14 forecasts with cutoffs between 2004-03-21 00:00:00 and 2007-06-04 00:00:00\n",
      "INFO:fbprophet:Applying in parallel with <concurrent.futures.process.ProcessPoolExecutor object at 0x7fed257e64d0>\n",
      "INFO:fbprophet:Disabling weekly seasonality. Run prophet with weekly_seasonality=True to override this.\n",
      "INFO:fbprophet:Disabling daily seasonality. Run prophet with daily_seasonality=True to override this.\n",
      "INFO:fbprophet:Making 14 forecasts with cutoffs between 2004-03-21 00:00:00 and 2007-06-04 00:00:00\n",
      "INFO:fbprophet:Applying in parallel with <concurrent.futures.process.ProcessPoolExecutor object at 0x7fed257aee90>\n",
      "INFO:fbprophet:Disabling weekly seasonality. Run prophet with weekly_seasonality=True to override this.\n",
      "INFO:fbprophet:Disabling daily seasonality. Run prophet with daily_seasonality=True to override this.\n",
      "INFO:fbprophet:Making 14 forecasts with cutoffs between 2004-03-21 00:00:00 and 2007-06-04 00:00:00\n",
      "INFO:fbprophet:Applying in parallel with <concurrent.futures.process.ProcessPoolExecutor object at 0x7fed23f0cf50>\n",
      "INFO:fbprophet:Disabling weekly seasonality. Run prophet with weekly_seasonality=True to override this.\n",
      "INFO:fbprophet:Disabling daily seasonality. Run prophet with daily_seasonality=True to override this.\n",
      "INFO:fbprophet:Making 14 forecasts with cutoffs between 2004-03-21 00:00:00 and 2007-06-04 00:00:00\n",
      "INFO:fbprophet:Applying in parallel with <concurrent.futures.process.ProcessPoolExecutor object at 0x7fed23482fd0>\n",
      "INFO:fbprophet:Disabling weekly seasonality. Run prophet with weekly_seasonality=True to override this.\n",
      "INFO:fbprophet:Disabling daily seasonality. Run prophet with daily_seasonality=True to override this.\n",
      "INFO:fbprophet:Making 14 forecasts with cutoffs between 2004-03-21 00:00:00 and 2007-06-04 00:00:00\n",
      "INFO:fbprophet:Applying in parallel with <concurrent.futures.process.ProcessPoolExecutor object at 0x7fed24e5f590>\n",
      "INFO:fbprophet:Disabling weekly seasonality. Run prophet with weekly_seasonality=True to override this.\n",
      "INFO:fbprophet:Disabling daily seasonality. Run prophet with daily_seasonality=True to override this.\n",
      "INFO:fbprophet:Making 14 forecasts with cutoffs between 2004-03-21 00:00:00 and 2007-06-04 00:00:00\n",
      "INFO:fbprophet:Applying in parallel with <concurrent.futures.process.ProcessPoolExecutor object at 0x7fed23482fd0>\n",
      "INFO:fbprophet:Disabling weekly seasonality. Run prophet with weekly_seasonality=True to override this.\n",
      "INFO:fbprophet:Disabling daily seasonality. Run prophet with daily_seasonality=True to override this.\n",
      "INFO:fbprophet:Making 14 forecasts with cutoffs between 2004-03-21 00:00:00 and 2007-06-04 00:00:00\n",
      "INFO:fbprophet:Applying in parallel with <concurrent.futures.process.ProcessPoolExecutor object at 0x7fed24dc6890>\n",
      "INFO:fbprophet:Disabling weekly seasonality. Run prophet with weekly_seasonality=True to override this.\n",
      "INFO:fbprophet:Disabling daily seasonality. Run prophet with daily_seasonality=True to override this.\n",
      "INFO:fbprophet:Making 14 forecasts with cutoffs between 2004-03-21 00:00:00 and 2007-06-04 00:00:00\n",
      "INFO:fbprophet:Applying in parallel with <concurrent.futures.process.ProcessPoolExecutor object at 0x7fed25830ad0>\n",
      "INFO:fbprophet:Disabling weekly seasonality. Run prophet with weekly_seasonality=True to override this.\n",
      "INFO:fbprophet:Disabling daily seasonality. Run prophet with daily_seasonality=True to override this.\n",
      "INFO:fbprophet:Making 14 forecasts with cutoffs between 2004-03-21 00:00:00 and 2007-06-04 00:00:00\n",
      "INFO:fbprophet:Applying in parallel with <concurrent.futures.process.ProcessPoolExecutor object at 0x7fed23482fd0>\n",
      "INFO:fbprophet:Disabling weekly seasonality. Run prophet with weekly_seasonality=True to override this.\n",
      "INFO:fbprophet:Disabling daily seasonality. Run prophet with daily_seasonality=True to override this.\n",
      "INFO:fbprophet:Making 14 forecasts with cutoffs between 2004-03-21 00:00:00 and 2007-06-04 00:00:00\n",
      "INFO:fbprophet:Applying in parallel with <concurrent.futures.process.ProcessPoolExecutor object at 0x7fed256e89d0>\n",
      "INFO:fbprophet:Disabling weekly seasonality. Run prophet with weekly_seasonality=True to override this.\n",
      "INFO:fbprophet:Disabling daily seasonality. Run prophet with daily_seasonality=True to override this.\n",
      "INFO:fbprophet:Making 14 forecasts with cutoffs between 2004-03-21 00:00:00 and 2007-06-04 00:00:00\n",
      "INFO:fbprophet:Applying in parallel with <concurrent.futures.process.ProcessPoolExecutor object at 0x7fed24dc6890>\n",
      "INFO:fbprophet:Disabling weekly seasonality. Run prophet with weekly_seasonality=True to override this.\n",
      "INFO:fbprophet:Disabling daily seasonality. Run prophet with daily_seasonality=True to override this.\n",
      "INFO:fbprophet:Making 14 forecasts with cutoffs between 2004-03-21 00:00:00 and 2007-06-04 00:00:00\n",
      "INFO:fbprophet:Applying in parallel with <concurrent.futures.process.ProcessPoolExecutor object at 0x7fed24800d50>\n"
     ]
    },
    {
     "name": "stdout",
     "output_type": "stream",
     "text": [
      "    changepoint_prior_scale  seasonality_prior_scale       rmse\n",
      "0                     0.001                     0.01  16.278649\n",
      "1                     0.001                     0.10  16.582146\n",
      "2                     0.001                     1.00  17.194640\n",
      "3                     0.001                    10.00  17.421831\n",
      "4                     0.010                     0.01  16.347243\n",
      "5                     0.010                     0.10  16.869296\n",
      "6                     0.010                     1.00  17.238603\n",
      "7                     0.010                    10.00  17.329829\n",
      "8                     0.100                     0.01  11.822806\n",
      "9                     0.100                     0.10  11.797652\n",
      "10                    0.100                     1.00  12.397138\n",
      "11                    0.100                    10.00  12.380703\n",
      "12                    0.500                     0.01  10.790036\n",
      "13                    0.500                     0.10  10.979125\n",
      "14                    0.500                     1.00  11.631892\n",
      "15                    0.500                    10.00  11.712842\n"
     ]
    }
   ],
   "source": [
    "param_grid = {  \n",
    "    #if it is too small, the trend will be underfit \n",
    "    #if too large, the trend will overfit\n",
    "    #.05 is default\n",
    "    'changepoint_prior_scale': [0.001, 0.01, 0.1, 0.5],\n",
    "    #a large value allows the seasonality to fit large fluctuations\n",
    "    #a small value shrinks the magnitude of the seasonality\n",
    "    #10 is default\n",
    "    'seasonality_prior_scale': [0.01, 0.1, 1.0, 10.0],\n",
    "}\n",
    "\n",
    "# Generate all combinations of parameters\n",
    "all_params = [dict(zip(param_grid.keys(), v)) for v in itertools.product(*param_grid.values())]\n",
    "rmses = []  # Store the RMSEs for each params here\n",
    "\n",
    "# Use cross validation to evaluate all parameters\n",
    "for params in all_params:\n",
    "    m = Prophet(**params).fit(train)  # Fit model with given params\n",
    "    df_cv = cross_validation(m, initial = '1461 days', period = '90 days', horizon='180 days', parallel=\"processes\")\n",
    "    df_p = performance_metrics(df_cv, rolling_window=1)\n",
    "    rmses.append(df_p['rmse'].values[0])\n",
    "\n",
    "# Find the best parameters\n",
    "tuning_results = pd.DataFrame(all_params)\n",
    "tuning_results['rmse'] = rmses\n",
    "print(tuning_results)"
   ]
  },
  {
   "cell_type": "markdown",
   "metadata": {},
   "source": [
    "### Selecting Best Parameters"
   ]
  },
  {
   "cell_type": "code",
   "execution_count": 19,
   "metadata": {},
   "outputs": [
    {
     "data": {
      "text/plain": [
       "<fbprophet.forecaster.Prophet at 0x7fed25752c50>"
      ]
     },
     "execution_count": 19,
     "metadata": {},
     "output_type": "execute_result"
    }
   ],
   "source": [
    "m = Prophet(#our data is in months so we will set the follwoing as false\n",
    "            daily_seasonality = False,\n",
    "            weekly_seasonality = False,\n",
    "            #growth=logistic so it won't continue upward or downward indefinitely\n",
    "            growth = 'logistic',\n",
    "            changepoint_prior_scale = 0.5,\n",
    "            seasonality_prior_scale = 0.01)\n",
    "#Fitting to model\n",
    "m.fit(train)"
   ]
  },
  {
   "cell_type": "code",
   "execution_count": 20,
   "metadata": {},
   "outputs": [],
   "source": [
    "#setting the length of predictions for validate\n",
    "future = m.make_future_dataframe(periods = len(validate))\n",
    "#setting cap and floor on predictions\n",
    "future['cap'] = 200\n",
    "future['floor'] = 20"
   ]
  },
  {
   "cell_type": "markdown",
   "metadata": {},
   "source": [
    "The futures dataframe will start with the first date in train and end with the last date in validate. Predictions will be made on all the days, but the model only used values of y up to the last date in train."
   ]
  },
  {
   "cell_type": "code",
   "execution_count": 21,
   "metadata": {},
   "outputs": [
    {
     "data": {
      "text/html": [
       "<div>\n",
       "<style scoped>\n",
       "    .dataframe tbody tr th:only-of-type {\n",
       "        vertical-align: middle;\n",
       "    }\n",
       "\n",
       "    .dataframe tbody tr th {\n",
       "        vertical-align: top;\n",
       "    }\n",
       "\n",
       "    .dataframe thead th {\n",
       "        text-align: right;\n",
       "    }\n",
       "</style>\n",
       "<table border=\"1\" class=\"dataframe\">\n",
       "  <thead>\n",
       "    <tr style=\"text-align: right;\">\n",
       "      <th></th>\n",
       "      <th>ds</th>\n",
       "      <th>cap</th>\n",
       "      <th>floor</th>\n",
       "    </tr>\n",
       "  </thead>\n",
       "  <tbody>\n",
       "    <tr>\n",
       "      <th>0</th>\n",
       "      <td>2000-01-01</td>\n",
       "      <td>200</td>\n",
       "      <td>20</td>\n",
       "    </tr>\n",
       "    <tr>\n",
       "      <th>1</th>\n",
       "      <td>2000-02-01</td>\n",
       "      <td>200</td>\n",
       "      <td>20</td>\n",
       "    </tr>\n",
       "    <tr>\n",
       "      <th>106</th>\n",
       "      <td>2007-12-12</td>\n",
       "      <td>200</td>\n",
       "      <td>20</td>\n",
       "    </tr>\n",
       "    <tr>\n",
       "      <th>107</th>\n",
       "      <td>2007-12-13</td>\n",
       "      <td>200</td>\n",
       "      <td>20</td>\n",
       "    </tr>\n",
       "  </tbody>\n",
       "</table>\n",
       "</div>"
      ],
      "text/plain": [
       "            ds  cap  floor\n",
       "0   2000-01-01  200     20\n",
       "1   2000-02-01  200     20\n",
       "106 2007-12-12  200     20\n",
       "107 2007-12-13  200     20"
      ]
     },
     "execution_count": 21,
     "metadata": {},
     "output_type": "execute_result"
    }
   ],
   "source": [
    "pd.concat([future.head(2), future.tail(2)])"
   ]
  },
  {
   "cell_type": "markdown",
   "metadata": {},
   "source": [
    "### Making Predictions"
   ]
  },
  {
   "cell_type": "code",
   "execution_count": 22,
   "metadata": {},
   "outputs": [],
   "source": [
    "forecast = m.predict(future)"
   ]
  },
  {
   "cell_type": "code",
   "execution_count": 23,
   "metadata": {},
   "outputs": [
    {
     "data": {
      "text/plain": [
       "Index(['ds', 'trend', 'cap', 'floor', 'yhat_lower', 'yhat_upper',\n",
       "       'trend_lower', 'trend_upper', 'additive_terms', 'additive_terms_lower',\n",
       "       'additive_terms_upper', 'yearly', 'yearly_lower', 'yearly_upper',\n",
       "       'multiplicative_terms', 'multiplicative_terms_lower',\n",
       "       'multiplicative_terms_upper', 'yhat'],\n",
       "      dtype='object')"
      ]
     },
     "execution_count": 23,
     "metadata": {},
     "output_type": "execute_result"
    }
   ],
   "source": [
    "#checking returned columns\n",
    "forecast.columns"
   ]
  },
  {
   "cell_type": "code",
   "execution_count": 25,
   "metadata": {},
   "outputs": [
    {
     "data": {
      "text/html": [
       "<div>\n",
       "<style scoped>\n",
       "    .dataframe tbody tr th:only-of-type {\n",
       "        vertical-align: middle;\n",
       "    }\n",
       "\n",
       "    .dataframe tbody tr th {\n",
       "        vertical-align: top;\n",
       "    }\n",
       "\n",
       "    .dataframe thead th {\n",
       "        text-align: right;\n",
       "    }\n",
       "</style>\n",
       "<table border=\"1\" class=\"dataframe\">\n",
       "  <thead>\n",
       "    <tr style=\"text-align: right;\">\n",
       "      <th></th>\n",
       "      <th>ds</th>\n",
       "      <th>yhat</th>\n",
       "      <th>yhat_lower</th>\n",
       "      <th>yhat_upper</th>\n",
       "    </tr>\n",
       "  </thead>\n",
       "  <tbody>\n",
       "    <tr>\n",
       "      <th>103</th>\n",
       "      <td>2007-12-09</td>\n",
       "      <td>108.427149</td>\n",
       "      <td>98.470618</td>\n",
       "      <td>118.052131</td>\n",
       "    </tr>\n",
       "    <tr>\n",
       "      <th>104</th>\n",
       "      <td>2007-12-10</td>\n",
       "      <td>108.486886</td>\n",
       "      <td>98.669923</td>\n",
       "      <td>119.205466</td>\n",
       "    </tr>\n",
       "    <tr>\n",
       "      <th>105</th>\n",
       "      <td>2007-12-11</td>\n",
       "      <td>108.551475</td>\n",
       "      <td>97.607305</td>\n",
       "      <td>118.305318</td>\n",
       "    </tr>\n",
       "    <tr>\n",
       "      <th>106</th>\n",
       "      <td>2007-12-12</td>\n",
       "      <td>108.621569</td>\n",
       "      <td>96.738144</td>\n",
       "      <td>119.198627</td>\n",
       "    </tr>\n",
       "    <tr>\n",
       "      <th>107</th>\n",
       "      <td>2007-12-13</td>\n",
       "      <td>108.697758</td>\n",
       "      <td>98.405621</td>\n",
       "      <td>118.919195</td>\n",
       "    </tr>\n",
       "  </tbody>\n",
       "</table>\n",
       "</div>"
      ],
      "text/plain": [
       "            ds        yhat  yhat_lower  yhat_upper\n",
       "103 2007-12-09  108.427149   98.470618  118.052131\n",
       "104 2007-12-10  108.486886   98.669923  119.205466\n",
       "105 2007-12-11  108.551475   97.607305  118.305318\n",
       "106 2007-12-12  108.621569   96.738144  119.198627\n",
       "107 2007-12-13  108.697758   98.405621  118.919195"
      ]
     },
     "execution_count": 25,
     "metadata": {},
     "output_type": "execute_result"
    }
   ],
   "source": [
    "#looking into the last predictions, including the confidence interval\n",
    "forecast[['ds', 'yhat', 'yhat_lower', 'yhat_upper']].tail()"
   ]
  },
  {
   "cell_type": "markdown",
   "metadata": {},
   "source": [
    "### Evaluating the Model"
   ]
  },
  {
   "cell_type": "code",
   "execution_count": 26,
   "metadata": {},
   "outputs": [],
   "source": [
    "from sklearn.metrics import mean_squared_error"
   ]
  },
  {
   "cell_type": "code",
   "execution_count": 27,
   "metadata": {},
   "outputs": [],
   "source": [
    "eval_df = pd.merge(ibm, forecast[['ds', 'yhat']], how = 'inner', on = 'ds')"
   ]
  },
  {
   "cell_type": "code",
   "execution_count": 28,
   "metadata": {},
   "outputs": [
    {
     "data": {
      "text/plain": [
       "8.140975362087831"
      ]
     },
     "execution_count": 28,
     "metadata": {},
     "output_type": "execute_result"
    }
   ],
   "source": [
    "rmse = sqrt(mean_squared_error(eval_df.y, eval_df.yhat))\n",
    "rmse"
   ]
  },
  {
   "cell_type": "markdown",
   "metadata": {},
   "source": [
    "### Visualize Predictions"
   ]
  },
  {
   "cell_type": "code",
   "execution_count": 29,
   "metadata": {},
   "outputs": [
    {
     "data": {
      "image/png": "[encoded data removed]",
      "text/plain": [
       "<Figure size 720x432 with 1 Axes>"
      ]
     },
     "metadata": {},
     "output_type": "display_data"
    }
   ],
   "source": [
    "fig1 = m.plot(forecast)"
   ]
  },
  {
   "cell_type": "code",
   "execution_count": 30,
   "metadata": {},
   "outputs": [
    {
     "data": {
      "image/png": "[encoded data removed]",
      "text/plain": [
       "<Figure size 648x432 with 2 Axes>"
      ]
     },
     "metadata": {},
     "output_type": "display_data"
    }
   ],
   "source": [
    "fig2 = m.plot_components(forecast)"
   ]
  },
  {
   "cell_type": "markdown",
   "metadata": {},
   "source": [
    "### Cross Validation"
   ]
  },
  {
   "cell_type": "code",
   "execution_count": 31,
   "metadata": {},
   "outputs": [
    {
     "name": "stderr",
     "output_type": "stream",
     "text": [
      "INFO:fbprophet:Making 14 forecasts with cutoffs between 2004-03-21 00:00:00 and 2007-06-04 00:00:00\n"
     ]
    },
    {
     "data": {
      "application/vnd.jupyter.widget-view+json": {
       "model_id": "eead2f7b9fbe496eb2c030d50c162f2f",
       "version_major": 2,
       "version_minor": 0
      },
      "text/plain": [
       "HBox(children=(HTML(value=''), FloatProgress(value=0.0, max=14.0), HTML(value='')))"
      ]
     },
     "metadata": {},
     "output_type": "display_data"
    },
    {
     "name": "stdout",
     "output_type": "stream",
     "text": [
      "\n"
     ]
    }
   ],
   "source": [
    "# format for initial, period and horizon should be in format \n",
    "# used by pandas timedelta, which accepts units of days or shorter. \n",
    "\n",
    "df_cv = cross_validation(m, \n",
    "                         initial = '1461 days', \n",
    "                         period = '90 days', \n",
    "                         horizon = '180 days', \n",
    "                        )"
   ]
  },
  {
   "cell_type": "markdown",
   "metadata": {},
   "source": [
    "### Evaluate"
   ]
  },
  {
   "cell_type": "code",
   "execution_count": 32,
   "metadata": {},
   "outputs": [
    {
     "data": {
      "text/html": [
       "<div>\n",
       "<style scoped>\n",
       "    .dataframe tbody tr th:only-of-type {\n",
       "        vertical-align: middle;\n",
       "    }\n",
       "\n",
       "    .dataframe tbody tr th {\n",
       "        vertical-align: top;\n",
       "    }\n",
       "\n",
       "    .dataframe thead th {\n",
       "        text-align: right;\n",
       "    }\n",
       "</style>\n",
       "<table border=\"1\" class=\"dataframe\">\n",
       "  <thead>\n",
       "    <tr style=\"text-align: right;\">\n",
       "      <th></th>\n",
       "      <th>ds</th>\n",
       "      <th>yhat</th>\n",
       "      <th>yhat_lower</th>\n",
       "      <th>yhat_upper</th>\n",
       "      <th>y</th>\n",
       "      <th>cutoff</th>\n",
       "    </tr>\n",
       "  </thead>\n",
       "  <tbody>\n",
       "    <tr>\n",
       "      <th>0</th>\n",
       "      <td>2004-04-01</td>\n",
       "      <td>86.037022</td>\n",
       "      <td>75.366077</td>\n",
       "      <td>95.733894</td>\n",
       "      <td>81.04</td>\n",
       "      <td>2004-03-21</td>\n",
       "    </tr>\n",
       "    <tr>\n",
       "      <th>1</th>\n",
       "      <td>2004-05-01</td>\n",
       "      <td>86.545834</td>\n",
       "      <td>76.561646</td>\n",
       "      <td>97.366545</td>\n",
       "      <td>81.59</td>\n",
       "      <td>2004-03-21</td>\n",
       "    </tr>\n",
       "    <tr>\n",
       "      <th>2</th>\n",
       "      <td>2004-06-01</td>\n",
       "      <td>86.779094</td>\n",
       "      <td>75.712563</td>\n",
       "      <td>96.891786</td>\n",
       "      <td>81.19</td>\n",
       "      <td>2004-03-21</td>\n",
       "    </tr>\n",
       "    <tr>\n",
       "      <th>3</th>\n",
       "      <td>2004-07-01</td>\n",
       "      <td>87.038174</td>\n",
       "      <td>77.147331</td>\n",
       "      <td>97.574830</td>\n",
       "      <td>80.19</td>\n",
       "      <td>2004-03-21</td>\n",
       "    </tr>\n",
       "    <tr>\n",
       "      <th>4</th>\n",
       "      <td>2004-08-01</td>\n",
       "      <td>89.960429</td>\n",
       "      <td>78.915465</td>\n",
       "      <td>99.737695</td>\n",
       "      <td>78.17</td>\n",
       "      <td>2004-03-21</td>\n",
       "    </tr>\n",
       "    <tr>\n",
       "      <th>...</th>\n",
       "      <td>...</td>\n",
       "      <td>...</td>\n",
       "      <td>...</td>\n",
       "      <td>...</td>\n",
       "      <td>...</td>\n",
       "      <td>...</td>\n",
       "    </tr>\n",
       "    <tr>\n",
       "      <th>79</th>\n",
       "      <td>2007-08-01</td>\n",
       "      <td>92.528823</td>\n",
       "      <td>82.467347</td>\n",
       "      <td>103.096932</td>\n",
       "      <td>111.54</td>\n",
       "      <td>2007-06-04</td>\n",
       "    </tr>\n",
       "    <tr>\n",
       "      <th>80</th>\n",
       "      <td>2007-09-01</td>\n",
       "      <td>90.665022</td>\n",
       "      <td>80.772265</td>\n",
       "      <td>101.413333</td>\n",
       "      <td>112.60</td>\n",
       "      <td>2007-06-04</td>\n",
       "    </tr>\n",
       "    <tr>\n",
       "      <th>81</th>\n",
       "      <td>2007-10-01</td>\n",
       "      <td>94.183670</td>\n",
       "      <td>82.531689</td>\n",
       "      <td>103.880151</td>\n",
       "      <td>111.00</td>\n",
       "      <td>2007-06-04</td>\n",
       "    </tr>\n",
       "    <tr>\n",
       "      <th>82</th>\n",
       "      <td>2007-11-01</td>\n",
       "      <td>96.456202</td>\n",
       "      <td>85.374451</td>\n",
       "      <td>107.033539</td>\n",
       "      <td>100.90</td>\n",
       "      <td>2007-06-04</td>\n",
       "    </tr>\n",
       "    <tr>\n",
       "      <th>83</th>\n",
       "      <td>2007-12-01</td>\n",
       "      <td>96.525954</td>\n",
       "      <td>86.108811</td>\n",
       "      <td>107.250370</td>\n",
       "      <td>103.70</td>\n",
       "      <td>2007-06-04</td>\n",
       "    </tr>\n",
       "  </tbody>\n",
       "</table>\n",
       "<p>84 rows × 6 columns</p>\n",
       "</div>"
      ],
      "text/plain": [
       "           ds       yhat  yhat_lower  yhat_upper       y     cutoff\n",
       "0  2004-04-01  86.037022   75.366077   95.733894   81.04 2004-03-21\n",
       "1  2004-05-01  86.545834   76.561646   97.366545   81.59 2004-03-21\n",
       "2  2004-06-01  86.779094   75.712563   96.891786   81.19 2004-03-21\n",
       "3  2004-07-01  87.038174   77.147331   97.574830   80.19 2004-03-21\n",
       "4  2004-08-01  89.960429   78.915465   99.737695   78.17 2004-03-21\n",
       "..        ...        ...         ...         ...     ...        ...\n",
       "79 2007-08-01  92.528823   82.467347  103.096932  111.54 2007-06-04\n",
       "80 2007-09-01  90.665022   80.772265  101.413333  112.60 2007-06-04\n",
       "81 2007-10-01  94.183670   82.531689  103.880151  111.00 2007-06-04\n",
       "82 2007-11-01  96.456202   85.374451  107.033539  100.90 2007-06-04\n",
       "83 2007-12-01  96.525954   86.108811  107.250370  103.70 2007-06-04\n",
       "\n",
       "[84 rows x 6 columns]"
      ]
     },
     "execution_count": 32,
     "metadata": {},
     "output_type": "execute_result"
    }
   ],
   "source": [
    "df_cv"
   ]
  },
  {
   "cell_type": "code",
   "execution_count": 33,
   "metadata": {},
   "outputs": [
    {
     "data": {
      "text/plain": [
       "2006-03-11    6\n",
       "2007-03-06    6\n",
       "2004-12-16    6\n",
       "2005-12-11    6\n",
       "2006-12-06    6\n",
       "2004-09-17    6\n",
       "2007-06-04    6\n",
       "2005-09-12    6\n",
       "2006-09-07    6\n",
       "2004-06-19    6\n",
       "2005-06-14    6\n",
       "2006-06-09    6\n",
       "2004-03-21    6\n",
       "2005-03-16    6\n",
       "Name: cutoff, dtype: int64"
      ]
     },
     "execution_count": 33,
     "metadata": {},
     "output_type": "execute_result"
    }
   ],
   "source": [
    "df_cv.cutoff.value_counts()"
   ]
  },
  {
   "cell_type": "code",
   "execution_count": 34,
   "metadata": {},
   "outputs": [],
   "source": [
    "df_p = performance_metrics(df_cv)"
   ]
  },
  {
   "cell_type": "code",
   "execution_count": 35,
   "metadata": {},
   "outputs": [
    {
     "data": {
      "text/html": [
       "<div>\n",
       "<style scoped>\n",
       "    .dataframe tbody tr th:only-of-type {\n",
       "        vertical-align: middle;\n",
       "    }\n",
       "\n",
       "    .dataframe tbody tr th {\n",
       "        vertical-align: top;\n",
       "    }\n",
       "\n",
       "    .dataframe thead th {\n",
       "        text-align: right;\n",
       "    }\n",
       "</style>\n",
       "<table border=\"1\" class=\"dataframe\">\n",
       "  <thead>\n",
       "    <tr style=\"text-align: right;\">\n",
       "      <th></th>\n",
       "      <th>horizon</th>\n",
       "      <th>mse</th>\n",
       "      <th>rmse</th>\n",
       "      <th>mae</th>\n",
       "      <th>mape</th>\n",
       "      <th>mdape</th>\n",
       "      <th>coverage</th>\n",
       "    </tr>\n",
       "  </thead>\n",
       "  <tbody>\n",
       "    <tr>\n",
       "      <th>0</th>\n",
       "      <td>21 days</td>\n",
       "      <td>44.169296</td>\n",
       "      <td>6.645998</td>\n",
       "      <td>4.494785</td>\n",
       "      <td>0.060348</td>\n",
       "      <td>0.043117</td>\n",
       "      <td>0.875</td>\n",
       "    </tr>\n",
       "    <tr>\n",
       "      <th>1</th>\n",
       "      <td>22 days</td>\n",
       "      <td>43.926403</td>\n",
       "      <td>6.627700</td>\n",
       "      <td>4.454363</td>\n",
       "      <td>0.060301</td>\n",
       "      <td>0.042927</td>\n",
       "      <td>0.875</td>\n",
       "    </tr>\n",
       "    <tr>\n",
       "      <th>2</th>\n",
       "      <td>24 days</td>\n",
       "      <td>59.222779</td>\n",
       "      <td>7.695634</td>\n",
       "      <td>5.722832</td>\n",
       "      <td>0.074801</td>\n",
       "      <td>0.051448</td>\n",
       "      <td>0.750</td>\n",
       "    </tr>\n",
       "    <tr>\n",
       "      <th>3</th>\n",
       "      <td>26 days</td>\n",
       "      <td>76.157547</td>\n",
       "      <td>8.726829</td>\n",
       "      <td>7.043640</td>\n",
       "      <td>0.080800</td>\n",
       "      <td>0.064743</td>\n",
       "      <td>0.625</td>\n",
       "    </tr>\n",
       "    <tr>\n",
       "      <th>4</th>\n",
       "      <td>27 days</td>\n",
       "      <td>102.425091</td>\n",
       "      <td>10.120528</td>\n",
       "      <td>8.458365</td>\n",
       "      <td>0.092678</td>\n",
       "      <td>0.100440</td>\n",
       "      <td>0.500</td>\n",
       "    </tr>\n",
       "    <tr>\n",
       "      <th>5</th>\n",
       "      <td>41 days</td>\n",
       "      <td>103.204299</td>\n",
       "      <td>10.158952</td>\n",
       "      <td>8.542724</td>\n",
       "      <td>0.093252</td>\n",
       "      <td>0.100440</td>\n",
       "      <td>0.500</td>\n",
       "    </tr>\n",
       "    <tr>\n",
       "      <th>6</th>\n",
       "      <td>43 days</td>\n",
       "      <td>108.724103</td>\n",
       "      <td>10.427085</td>\n",
       "      <td>9.144351</td>\n",
       "      <td>0.100812</td>\n",
       "      <td>0.113183</td>\n",
       "      <td>0.500</td>\n",
       "    </tr>\n",
       "    <tr>\n",
       "      <th>7</th>\n",
       "      <td>45 days</td>\n",
       "      <td>107.230884</td>\n",
       "      <td>10.355235</td>\n",
       "      <td>9.016744</td>\n",
       "      <td>0.098731</td>\n",
       "      <td>0.113183</td>\n",
       "      <td>0.500</td>\n",
       "    </tr>\n",
       "    <tr>\n",
       "      <th>8</th>\n",
       "      <td>46 days</td>\n",
       "      <td>144.630263</td>\n",
       "      <td>12.026232</td>\n",
       "      <td>10.852566</td>\n",
       "      <td>0.125065</td>\n",
       "      <td>0.132356</td>\n",
       "      <td>0.375</td>\n",
       "    </tr>\n",
       "    <tr>\n",
       "      <th>9</th>\n",
       "      <td>47 days</td>\n",
       "      <td>129.229514</td>\n",
       "      <td>11.367916</td>\n",
       "      <td>9.499595</td>\n",
       "      <td>0.109531</td>\n",
       "      <td>0.118002</td>\n",
       "      <td>0.500</td>\n",
       "    </tr>\n",
       "    <tr>\n",
       "      <th>10</th>\n",
       "      <td>48 days</td>\n",
       "      <td>110.692150</td>\n",
       "      <td>10.521034</td>\n",
       "      <td>8.670891</td>\n",
       "      <td>0.103603</td>\n",
       "      <td>0.100744</td>\n",
       "      <td>0.625</td>\n",
       "    </tr>\n",
       "    <tr>\n",
       "      <th>11</th>\n",
       "      <td>50 days</td>\n",
       "      <td>84.900655</td>\n",
       "      <td>9.214155</td>\n",
       "      <td>7.024590</td>\n",
       "      <td>0.086599</td>\n",
       "      <td>0.079785</td>\n",
       "      <td>0.750</td>\n",
       "    </tr>\n",
       "    <tr>\n",
       "      <th>12</th>\n",
       "      <td>51 days</td>\n",
       "      <td>57.500595</td>\n",
       "      <td>7.582915</td>\n",
       "      <td>5.409215</td>\n",
       "      <td>0.072241</td>\n",
       "      <td>0.043827</td>\n",
       "      <td>0.875</td>\n",
       "    </tr>\n",
       "    <tr>\n",
       "      <th>13</th>\n",
       "      <td>52 days</td>\n",
       "      <td>56.517607</td>\n",
       "      <td>7.517819</td>\n",
       "      <td>5.300501</td>\n",
       "      <td>0.071451</td>\n",
       "      <td>0.040664</td>\n",
       "      <td>0.875</td>\n",
       "    </tr>\n",
       "    <tr>\n",
       "      <th>14</th>\n",
       "      <td>53 days</td>\n",
       "      <td>49.068534</td>\n",
       "      <td>7.004894</td>\n",
       "      <td>4.372242</td>\n",
       "      <td>0.059587</td>\n",
       "      <td>0.024309</td>\n",
       "      <td>0.875</td>\n",
       "    </tr>\n",
       "    <tr>\n",
       "      <th>15</th>\n",
       "      <td>55 days</td>\n",
       "      <td>59.440799</td>\n",
       "      <td>7.709786</td>\n",
       "      <td>5.298740</td>\n",
       "      <td>0.070249</td>\n",
       "      <td>0.040664</td>\n",
       "      <td>0.875</td>\n",
       "    </tr>\n",
       "    <tr>\n",
       "      <th>16</th>\n",
       "      <td>56 days</td>\n",
       "      <td>73.584352</td>\n",
       "      <td>8.578132</td>\n",
       "      <td>5.670611</td>\n",
       "      <td>0.064269</td>\n",
       "      <td>0.040664</td>\n",
       "      <td>0.875</td>\n",
       "    </tr>\n",
       "    <tr>\n",
       "      <th>17</th>\n",
       "      <td>57 days</td>\n",
       "      <td>84.702985</td>\n",
       "      <td>9.203422</td>\n",
       "      <td>6.815093</td>\n",
       "      <td>0.077237</td>\n",
       "      <td>0.078538</td>\n",
       "      <td>0.875</td>\n",
       "    </tr>\n",
       "    <tr>\n",
       "      <th>18</th>\n",
       "      <td>58 days</td>\n",
       "      <td>122.457056</td>\n",
       "      <td>11.066032</td>\n",
       "      <td>8.228160</td>\n",
       "      <td>0.085709</td>\n",
       "      <td>0.080708</td>\n",
       "      <td>0.750</td>\n",
       "    </tr>\n",
       "    <tr>\n",
       "      <th>19</th>\n",
       "      <td>72 days</td>\n",
       "      <td>126.191896</td>\n",
       "      <td>11.233517</td>\n",
       "      <td>8.781063</td>\n",
       "      <td>0.092558</td>\n",
       "      <td>0.087919</td>\n",
       "      <td>0.750</td>\n",
       "    </tr>\n",
       "  </tbody>\n",
       "</table>\n",
       "</div>"
      ],
      "text/plain": [
       "   horizon         mse       rmse        mae      mape     mdape  coverage\n",
       "0  21 days   44.169296   6.645998   4.494785  0.060348  0.043117     0.875\n",
       "1  22 days   43.926403   6.627700   4.454363  0.060301  0.042927     0.875\n",
       "2  24 days   59.222779   7.695634   5.722832  0.074801  0.051448     0.750\n",
       "3  26 days   76.157547   8.726829   7.043640  0.080800  0.064743     0.625\n",
       "4  27 days  102.425091  10.120528   8.458365  0.092678  0.100440     0.500\n",
       "5  41 days  103.204299  10.158952   8.542724  0.093252  0.100440     0.500\n",
       "6  43 days  108.724103  10.427085   9.144351  0.100812  0.113183     0.500\n",
       "7  45 days  107.230884  10.355235   9.016744  0.098731  0.113183     0.500\n",
       "8  46 days  144.630263  12.026232  10.852566  0.125065  0.132356     0.375\n",
       "9  47 days  129.229514  11.367916   9.499595  0.109531  0.118002     0.500\n",
       "10 48 days  110.692150  10.521034   8.670891  0.103603  0.100744     0.625\n",
       "11 50 days   84.900655   9.214155   7.024590  0.086599  0.079785     0.750\n",
       "12 51 days   57.500595   7.582915   5.409215  0.072241  0.043827     0.875\n",
       "13 52 days   56.517607   7.517819   5.300501  0.071451  0.040664     0.875\n",
       "14 53 days   49.068534   7.004894   4.372242  0.059587  0.024309     0.875\n",
       "15 55 days   59.440799   7.709786   5.298740  0.070249  0.040664     0.875\n",
       "16 56 days   73.584352   8.578132   5.670611  0.064269  0.040664     0.875\n",
       "17 57 days   84.702985   9.203422   6.815093  0.077237  0.078538     0.875\n",
       "18 58 days  122.457056  11.066032   8.228160  0.085709  0.080708     0.750\n",
       "19 72 days  126.191896  11.233517   8.781063  0.092558  0.087919     0.750"
      ]
     },
     "execution_count": 35,
     "metadata": {},
     "output_type": "execute_result"
    }
   ],
   "source": [
    "df_p.head(20)"
   ]
  },
  {
   "cell_type": "code",
   "execution_count": 36,
   "metadata": {},
   "outputs": [
    {
     "data": {
      "text/html": [
       "<div>\n",
       "<style scoped>\n",
       "    .dataframe tbody tr th:only-of-type {\n",
       "        vertical-align: middle;\n",
       "    }\n",
       "\n",
       "    .dataframe tbody tr th {\n",
       "        vertical-align: top;\n",
       "    }\n",
       "\n",
       "    .dataframe thead th {\n",
       "        text-align: right;\n",
       "    }\n",
       "</style>\n",
       "<table border=\"1\" class=\"dataframe\">\n",
       "  <thead>\n",
       "    <tr style=\"text-align: right;\">\n",
       "      <th></th>\n",
       "      <th>horizon</th>\n",
       "      <th>mse</th>\n",
       "      <th>rmse</th>\n",
       "      <th>mae</th>\n",
       "      <th>mape</th>\n",
       "      <th>mdape</th>\n",
       "      <th>coverage</th>\n",
       "    </tr>\n",
       "  </thead>\n",
       "  <tbody>\n",
       "    <tr>\n",
       "      <th>18</th>\n",
       "      <td>58 days</td>\n",
       "      <td>122.457056</td>\n",
       "      <td>11.066032</td>\n",
       "      <td>8.22816</td>\n",
       "      <td>0.085709</td>\n",
       "      <td>0.080708</td>\n",
       "      <td>0.75</td>\n",
       "    </tr>\n",
       "  </tbody>\n",
       "</table>\n",
       "</div>"
      ],
      "text/plain": [
       "   horizon         mse       rmse      mae      mape     mdape  coverage\n",
       "18 58 days  122.457056  11.066032  8.22816  0.085709  0.080708      0.75"
      ]
     },
     "execution_count": 36,
     "metadata": {},
     "output_type": "execute_result"
    }
   ],
   "source": [
    "df_p[df_p.horizon == \"58 days\"]"
   ]
  },
  {
   "cell_type": "markdown",
   "metadata": {},
   "source": [
    "### Visualize\n",
    "We can also plot the Mean Absolute Percent Error (MAPE) over the forecast horizon to determine whether our forecast is trustworthy. Here, we use a percentage error instead of the Mean Squared Error (MSE), simply because it is easier to interpret."
   ]
  },
  {
   "cell_type": "code",
   "execution_count": 37,
   "metadata": {},
   "outputs": [
    {
     "data": {
      "image/png": "[encoded data removed]",
      "text/plain": [
       "<Figure size 720x432 with 1 Axes>"
      ]
     },
     "metadata": {},
     "output_type": "display_data"
    }
   ],
   "source": [
    "plot_forecast_component(m, forecast, 'yhat')\n",
    "plt.show()"
   ]
  },
  {
   "cell_type": "code",
   "execution_count": 38,
   "metadata": {},
   "outputs": [
    {
     "data": {
      "image/png": "[encoded data removed]",
      "text/plain": [
       "<Figure size 720x432 with 1 Axes>"
      ]
     },
     "metadata": {},
     "output_type": "display_data"
    }
   ],
   "source": [
    "fig3 = plot_cross_validation_metric(df_cv, metric='rmse')"
   ]
  },
  {
   "cell_type": "code",
   "execution_count": 39,
   "metadata": {},
   "outputs": [
    {
     "data": {
      "image/png": "[encoded data removed]",
      "text/plain": [
       "<Figure size 720x432 with 1 Axes>"
      ]
     },
     "metadata": {},
     "output_type": "display_data"
    }
   ],
   "source": [
    "fig3 = plot_cross_validation_metric(df_cv, metric='mape')"
   ]
  },
  {
   "cell_type": "code",
   "execution_count": null,
   "metadata": {},
   "outputs": [],
   "source": []
  },
  {
   "cell_type": "code",
   "execution_count": null,
   "metadata": {},
   "outputs": [],
   "source": []
  },
  {
   "cell_type": "code",
   "execution_count": null,
   "metadata": {},
   "outputs": [],
   "source": []
  },
  {
   "cell_type": "code",
   "execution_count": null,
   "metadata": {},
   "outputs": [],
   "source": []
  },
  {
   "cell_type": "code",
   "execution_count": 22,
   "metadata": {},
   "outputs": [],
   "source": [
    "apple = stocks.iloc[:,:1]\n",
    "\n",
    "amazon = stocks.iloc[:, 1:2]\n",
    "\n",
    "google = stocks.iloc[:,2:3]\n",
    "\n",
    "ibm = stocks.iloc[:,3:4]\n",
    "\n",
    "microsoft = stocks.iloc[:,4:5]"
   ]
  }
 ],
 "metadata": {
  "kernelspec": {
   "display_name": "Python 3",
   "language": "python",
   "name": "python3"
  },
  "language_info": {
   "codemirror_mode": {
    "name": "ipython",
    "version": 3
   },
   "file_extension": ".py",
   "mimetype": "text/x-python",
   "name": "python",
   "nbconvert_exporter": "python",
   "pygments_lexer": "ipython3",
   "version": "3.7.9"
  }
 },
 "nbformat": 4,
 "nbformat_minor": 4
}
